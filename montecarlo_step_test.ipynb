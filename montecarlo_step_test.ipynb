{
 "cells": [
  {
   "cell_type": "code",
   "execution_count": null,
   "metadata": {},
   "outputs": [],
   "source": [
    "import matplotlib.pyplot as plt\n",
    "import os\n",
    "\n",
    "# Create a directory to store figures\n",
    "os.makedirs(\"figures\", exist_ok=True)\n",
    "\n",
    "# Counter for unique filenames\n",
    "fig_counter = 0\n",
    "\n",
    "def my_show(*args, **kwargs):\n",
    "    global fig_counter\n",
    "    # Create a filename based on the counter\n",
    "    filename = os.path.join(\"figures\", f\"figure_{fig_counter}.png\")\n",
    "    plt.savefig(filename, bbox_inches=\"tight\")\n",
    "    plt.close()  # Optionally close the figure after saving\n",
    "    print(f\"Figure saved as {filename}\")\n",
    "    fig_counter += 1\n",
    "\n",
    "# Override plt.show with our custom function\n",
    "plt.show = my_show"
   ]
  },
  {
   "cell_type": "code",
   "execution_count": null,
   "metadata": {},
   "outputs": [],
   "source": [
    "import simtool.simtool as simtool\n",
    "\n",
    "TRAN_values = [5,15,25,35,45,55,65,75,85,95,105]\n",
    "\n",
    "df_results = simtool.problem_size_test(TRAN_values)\n",
    "print(df_results)\n",
    "\n",
    "df_results.to_csv('montecarlo_step_test.csv')\n"
   ]
  }
 ],
 "metadata": {
  "language_info": {
   "name": "python"
  }
 },
 "nbformat": 4,
 "nbformat_minor": 2
}
