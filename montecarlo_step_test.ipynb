{
 "cells": [
  {
   "cell_type": "code",
   "execution_count": null,
   "metadata": {},
   "outputs": [],
   "source": [
    "import matplotlib.pyplot as plt\n",
    "import os\n",
    "\n",
    "# Create a directory to store figures\n",
    "os.makedirs(\"figures\", exist_ok=True)\n",
    "\n",
    "# Counter for unique filenames\n",
    "fig_counter = 0\n",
    "\n",
    "def my_show(*args, **kwargs):\n",
    "    global fig_counter\n",
    "    # Create a filename based on the counter\n",
    "    filename = os.path.join(\"figures\", f\"figure_{fig_counter}.png\")\n",
    "    plt.savefig(filename, bbox_inches=\"tight\")\n",
    "    plt.close()  # Optionally close the figure after saving\n",
    "    print(f\"Figure saved as {filename}\")\n",
    "    fig_counter += 1\n",
    "\n",
    "# Override plt.show with our custom function\n",
    "plt.show = my_show"
   ]
  },
  {
   "cell_type": "code",
   "execution_count": null,
   "metadata": {},
   "outputs": [
    {
     "name": "stdout",
     "output_type": "stream",
     "text": [
      "Building preset 'gcc-O3' for L=384 in directory /home/lfissore/Documents/Facultad/paralela2025/tiny_ising/out/gcc-O3_384 ...\n",
      "{'compiler': 'gcc', 'optimization_flags': '-O3', 'L': 384, 'TRAN': 15, 'metric': None, 'error': \"could not convert string to float: '# L: 384\\\\n# Minimum Temperature: 1.500000\\\\n# Maximum Temperature: 3.000000\\\\n# Temperature Step: 0.010000000000\\\\n# Equilibration Time: 5\\\\n# Measurement Time: 25\\\\n# Data Acquiring Step: 5\\\\n# Number of Points: 151\\\\n35.219121'\"}\n",
      "  compiler optimization_flags    L  TRAN metric  \\\n",
      "0      gcc                -O3  384    15   None   \n",
      "\n",
      "                                               error  \n",
      "0  could not convert string to float: '# L: 384\\n...  \n"
     ]
    }
   ],
   "source": [
    "import simtool.simtool as simtool\n",
    "\n",
    "TRAN_values = [15]\n",
    "\n",
    "df_results = simtool.montecarlo_step_test(TRAN_values, L=500)\n",
    "print(df_results)\n",
    "\n",
    "df_results.to_csv('montecarlo_step_test.csv')\n"
   ]
  }
 ],
 "metadata": {
  "kernelspec": {
   "display_name": "Python 3",
   "language": "python",
   "name": "python3"
  },
  "language_info": {
   "codemirror_mode": {
    "name": "ipython",
    "version": 3
   },
   "file_extension": ".py",
   "mimetype": "text/x-python",
   "name": "python",
   "nbconvert_exporter": "python",
   "pygments_lexer": "ipython3",
   "version": "3.13.2"
  }
 },
 "nbformat": 4,
 "nbformat_minor": 2
}
