{
 "cells": [
  {
   "cell_type": "markdown",
   "metadata": {},
   "source": [
    "Profiler"
   ]
  },
  {
   "cell_type": "code",
   "execution_count": null,
   "metadata": {},
   "outputs": [
    {
     "name": "stdout",
     "output_type": "stream",
     "text": [
      "Building preset 'gcc-O3_profile' for L=348 in directory /home/lfissore/Documents/Facultad/paralela2025/tiny_ising/out/gcc-O3_profile_348 ...\n",
      "Profiling binary using perf for preset 'gcc-O3_profile' with L=348 in /home/lfissore/Documents/Facultad/paralela2025/tiny_ising/results/gcc-O3_profile_348_profile ...\n"
     ]
    }
   ],
   "source": [
    "import simtool.simtool as simtool\n",
    "\n",
    "profile_result = simtool.build_and_profile(L=348, stat_n=5)\n",
    "print(profile_result)"
   ]
  },
  {
   "cell_type": "code",
   "execution_count": 8,
   "metadata": {},
   "outputs": [
    {
     "name": "stdout",
     "output_type": "stream",
     "text": [
      "{'task-clock': 20775.87, 'context-switches': 0.0, 'cpu-migrations': 0.0, 'page-faults': 196.0, 'instructions': 78532181386.0, 'cycles': 49492420971.0, 'branches': 11732703336.0, 'branch-misses': 299484018.0, 'L1-dcache-loads': 20290682507.0, 'L1-dcache-load-misses': 47940658.0, 'LLC-loads': 2312637.0, 'LLC-load-misses': 699488.0, 'L1-icache-load-misses': 1911012.0, 'dTLB-loads': 20321686128.0, 'dTLB-load-misses': 172416.0, 'iTLB-loads': 578819.0, 'iTLB-load-misses': 25521.0, 'time_elapsed': 21.01}\n"
     ]
    }
   ],
   "source": [
    "import simtool.simtool as simtool\n",
    "\n",
    "print(simtool.parse_perf_output('/home/lfissore/Documents/Facultad/paralela2025/tiny_ising/results/gcc-O3_profile_348_profile/stat_out'))"
   ]
  },
  {
   "cell_type": "code",
   "execution_count": 33,
   "metadata": {},
   "outputs": [
    {
     "name": "stdout",
     "output_type": "stream",
     "text": [
      "Building preset 'gcc-O3' for L=1000 in directory /home/lfissore/Documents/Facultad/paralela2025/tiny_ising/out/gcc-O3_1000 ...\n",
      "{'compiler': 'gcc', 'optimization_flags': '-O3', 'L': 1000, 'metric': 149.136153, 'error': None}\n"
     ]
    }
   ],
   "source": [
    "\n",
    "import simtool.simtool as simtool\n",
    "\n",
    "# Run all builds with a problem size L=1000\n",
    "df_results = simtool.build_and_run('gcc-O3', L=1000)\n",
    "print(df_results)"
   ]
  }
 ],
 "metadata": {
  "kernelspec": {
   "display_name": "Python 3",
   "language": "python",
   "name": "python3"
  },
  "language_info": {
   "codemirror_mode": {
    "name": "ipython",
    "version": 3
   },
   "file_extension": ".py",
   "mimetype": "text/x-python",
   "name": "python",
   "nbconvert_exporter": "python",
   "pygments_lexer": "ipython3",
   "version": "3.13.2"
  }
 },
 "nbformat": 4,
 "nbformat_minor": 4
}
