{
 "cells": [
  {
   "cell_type": "markdown",
   "metadata": {},
   "source": [
    "Problem size Test"
   ]
  },
  {
   "cell_type": "code",
   "execution_count": null,
   "metadata": {},
   "outputs": [],
   "source": [
    "import matplotlib.pyplot as plt\n",
    "import os\n",
    "\n",
    "# Create a directory to store figures\n",
    "os.makedirs(\"figures\", exist_ok=True)\n",
    "\n",
    "# Counter for unique filenames\n",
    "fig_counter = 0\n",
    "\n",
    "def my_show(*args, **kwargs):\n",
    "    global fig_counter\n",
    "    # Create a filename based on the counter\n",
    "    filename = os.path.join(\"figures\", f\"figure_{fig_counter}.png\")\n",
    "    plt.savefig(filename, bbox_inches=\"tight\")\n",
    "    plt.close()  # Optionally close the figure after saving\n",
    "    print(f\"Figure saved as {filename}\")\n",
    "    fig_counter += 1\n",
    "\n",
    "# Override plt.show with our custom function\n",
    "plt.show = my_show"
   ]
  },
  {
   "cell_type": "code",
   "execution_count": null,
   "metadata": {},
   "outputs": [
    {
     "name": "stdout",
     "output_type": "stream",
     "text": [
      "Building preset 'gcc-O3' for L=100 in directory /home/lfissore/Documents/Facultad/paralela2025/tiny_ising/out/gcc-O3_100 ...\n",
      "Building preset 'gcc-O3' for L=200 in directory /home/lfissore/Documents/Facultad/paralela2025/tiny_ising/out/gcc-O3_200 ...\n",
      "Building preset 'gcc-O3' for L=300 in directory /home/lfissore/Documents/Facultad/paralela2025/tiny_ising/out/gcc-O3_300 ...\n",
      "Building preset 'gcc-O3' for L=400 in directory /home/lfissore/Documents/Facultad/paralela2025/tiny_ising/out/gcc-O3_400 ...\n",
      "Building preset 'gcc-O3' for L=500 in directory /home/lfissore/Documents/Facultad/paralela2025/tiny_ising/out/gcc-O3_500 ...\n",
      "Building preset 'gcc-O3' for L=600 in directory /home/lfissore/Documents/Facultad/paralela2025/tiny_ising/out/gcc-O3_600 ...\n",
      "Building preset 'gcc-O3' for L=700 in directory /home/lfissore/Documents/Facultad/paralela2025/tiny_ising/out/gcc-O3_700 ...\n",
      "Building preset 'gcc-O3' for L=800 in directory /home/lfissore/Documents/Facultad/paralela2025/tiny_ising/out/gcc-O3_800 ...\n",
      "Building preset 'gcc-O3' for L=900 in directory /home/lfissore/Documents/Facultad/paralela2025/tiny_ising/out/gcc-O3_900 ...\n",
      "Building preset 'gcc-O3' for L=1000 in directory /home/lfissore/Documents/Facultad/paralela2025/tiny_ising/out/gcc-O3_1000 ...\n",
      "{'compiler': 'gcc', 'optimization_flags': '-O3', 'L': 100, 'metric': 2.715424, 'error': None}\n",
      "{'compiler': 'gcc', 'optimization_flags': '-O3', 'L': 200, 'metric': 4.836, 'error': None}\n",
      "{'compiler': 'gcc', 'optimization_flags': '-O3', 'L': 300, 'metric': 18.891268, 'error': None}\n",
      "{'compiler': 'gcc', 'optimization_flags': '-O3', 'L': 400, 'metric': 31.192876, 'error': None}\n",
      "{'compiler': 'gcc', 'optimization_flags': '-O3', 'L': 500, 'metric': 47.513295, 'error': None}\n",
      "{'compiler': 'gcc', 'optimization_flags': '-O3', 'L': 600, 'metric': 61.584173, 'error': None}\n",
      "{'compiler': 'gcc', 'optimization_flags': '-O3', 'L': 700, 'metric': 79.356097, 'error': None}\n",
      "{'compiler': 'gcc', 'optimization_flags': '-O3', 'L': 800, 'metric': 95.164429, 'error': None}\n",
      "{'compiler': 'gcc', 'optimization_flags': '-O3', 'L': 900, 'metric': 116.477848, 'error': None}\n",
      "{'compiler': 'gcc', 'optimization_flags': '-O3', 'L': 1000, 'metric': 135.188841, 'error': None}\n"
     ]
    },
    {
     "ename": "NameError",
     "evalue": "name 'df_results' is not defined",
     "output_type": "error",
     "traceback": [
      "\u001b[31m---------------------------------------------------------------------------\u001b[39m",
      "\u001b[31mNameError\u001b[39m                                 Traceback (most recent call last)",
      "\u001b[36mCell\u001b[39m\u001b[36m \u001b[39m\u001b[32mIn[1]\u001b[39m\u001b[32m, line 5\u001b[39m\n\u001b[32m      3\u001b[39m L_values = [\u001b[32m100\u001b[39m,\u001b[32m200\u001b[39m,\u001b[32m300\u001b[39m,\u001b[32m400\u001b[39m,\u001b[32m500\u001b[39m,\u001b[32m600\u001b[39m,\u001b[32m700\u001b[39m,\u001b[32m800\u001b[39m,\u001b[32m900\u001b[39m,\u001b[32m1000\u001b[39m]\n\u001b[32m      4\u001b[39m df_results_L = simtool.problem_size_test(L_values)\n\u001b[32m----> \u001b[39m\u001b[32m5\u001b[39m \u001b[38;5;28mprint\u001b[39m(\u001b[43mdf_results\u001b[49m)\n",
      "\u001b[31mNameError\u001b[39m: name 'df_results' is not defined"
     ]
    }
   ],
   "source": [
    "import simtool.simtool as simtool\n",
    "\n",
    "L_values = [8192,6144,4096,3072,2048, 1400, 1300, 1200, 1100, 1000, 900,800, 700, 600, 500, 400, 300, 200, 100]\n",
    "df_results = simtool.problem_size_test(L_values, presets='both')\n",
    "print(df_results)\n",
    "\n",
    "df_results.to_csv('problem_size_test_both.csv')"
   ]
  },
  {
   "cell_type": "code",
   "execution_count": 6,
   "metadata": {},
   "outputs": [
    {
     "data": {
      "image/png": "[encoded data removed]",
      "text/plain": [
       "<Figure size 640x480 with 1 Axes>"
      ]
     },
     "metadata": {},
     "output_type": "display_data"
    }
   ],
   "source": [
    "import pandas as pd\n",
    "import seaborn as sns\n",
    "import matplotlib.pyplot as plt\n",
    "\n",
    "df = pd.read_csv('problem_size_test_atom_metric.csv')\n",
    "\n",
    "# Use seaborn to create a line plot\n",
    "sns.scatterplot(x='L', y='metric', data=df)\n",
    "\n",
    "# Set the plot title and axis labels\n",
    "plt.title('Metric vs Grid Size')\n",
    "plt.xlabel('Grid Size')\n",
    "plt.ylabel('Metric [p/s]')\n",
    "plt.xticks(df.L.unique(), rotation=90)\n",
    "\n",
    "# Show the plot\n",
    "plt.show()"
   ]
  },
  {
   "cell_type": "code",
   "execution_count": 5,
   "metadata": {},
   "outputs": [
    {
     "ename": "NameError",
     "evalue": "name 'df' is not defined",
     "output_type": "error",
     "traceback": [
      "\u001b[31m---------------------------------------------------------------------------\u001b[39m",
      "\u001b[31mNameError\u001b[39m                                 Traceback (most recent call last)",
      "\u001b[36mCell\u001b[39m\u001b[36m \u001b[39m\u001b[32mIn[5]\u001b[39m\u001b[32m, line 14\u001b[39m\n\u001b[32m     10\u001b[39m \u001b[38;5;66;03m# note the double square brackets around the 'x'!!\u001b[39;00m\n\u001b[32m     11\u001b[39m \u001b[38;5;66;03m# this is because we want to use DataFrame.apply,\u001b[39;00m\n\u001b[32m     12\u001b[39m \u001b[38;5;66;03m# not Series.apply!!\u001b[39;00m\n\u001b[32m     13\u001b[39m df_metric = df_results\n\u001b[32m---> \u001b[39m\u001b[32m14\u001b[39m df_metric[\u001b[33m'\u001b[39m\u001b[33mmetric\u001b[39m\u001b[33m'\u001b[39m] = \u001b[43mdf\u001b[49m[[\u001b[33m'\u001b[39m\u001b[33mmetric\u001b[39m\u001b[33m'\u001b[39m]].apply(scale)\n\u001b[32m     17\u001b[39m \u001b[38;5;66;03m# Use seaborn to create a line plot\u001b[39;00m\n\u001b[32m     18\u001b[39m sns.scatterplot(x=\u001b[33m'\u001b[39m\u001b[33mL\u001b[39m\u001b[33m'\u001b[39m, y=\u001b[33m'\u001b[39m\u001b[33mmetric\u001b[39m\u001b[33m'\u001b[39m, data=df_results)\n",
      "\u001b[31mNameError\u001b[39m: name 'df' is not defined"
     ]
    }
   ],
   "source": [
    "import pandas as pd\n",
    "import seaborn as sns\n",
    "import matplotlib.pyplot as plt\n",
    "\n",
    "import numpy as np\n",
    "\n",
    "def scale(arr):\n",
    "    return np.divide(arr,L*L)\n",
    "\n",
    "# note the double square brackets around the 'x'!!\n",
    "# this is because we want to use DataFrame.apply,\n",
    "# not Series.apply!!\n",
    "df_metric = df_results\n",
    "df_metric['metric'] = df[['metric']].apply(scale)\n",
    "\n",
    "\n",
    "# Use seaborn to create a line plot\n",
    "sns.scatterplot(x='L', y='metric', data=df_results)\n",
    "\n",
    "# Set the plot title and axis labels\n",
    "plt.title('Metric vs Grid Size')\n",
    "plt.xlabel('Grid Size')\n",
    "plt.ylabel('Time')\n",
    "plt.xticks(df_results.L.unique(), rotation=90)\n",
    "\n",
    "# Show the plot\n",
    "plt.show()"
   ]
  }
 ],
 "metadata": {
  "kernelspec": {
   "display_name": "Python 3",
   "language": "python",
   "name": "python3"
  },
  "language_info": {
   "codemirror_mode": {
    "name": "ipython",
    "version": 3
   },
   "file_extension": ".py",
   "mimetype": "text/x-python",
   "name": "python",
   "nbconvert_exporter": "python",
   "pygments_lexer": "ipython3",
   "version": "3.13.2"
  }
 },
 "nbformat": 4,
 "nbformat_minor": 2
}
